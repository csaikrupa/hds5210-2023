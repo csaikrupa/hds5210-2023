{
  "cells": [
    {
      "cell_type": "markdown",
      "metadata": {
        "nbgrader": {
          "grade": false,
          "grade_id": "intro",
          "locked": true,
          "schema_version": 1,
          "solution": false
        },
        "id": "ff3GeHxbsbE_"
      },
      "source": [
        "# Week 6 Exercises\n",
        "\n",
        "_McKinney 6.1_\n",
        "\n",
        "There are multiple ways to solve the problems below.  You can use any one of several approaches.  For example, you can read CSV files using Pandas or the csv module.  Your score won't depend on which modules you choose to use unless explicitly noted below, but your programming style will still matter."
      ]
    },
    {
      "cell_type": "markdown",
      "metadata": {
        "nbgrader": {
          "grade": false,
          "grade_id": "q1-description",
          "locked": true,
          "schema_version": 1,
          "solution": false
        },
        "id": "s8lg4-q6sbFA"
      },
      "source": [
        "### 30.1 List of Allergies\n",
        "\n",
        "In this GitHub repository, there is a file called `allergies.json` that contains a list of patient allergies.  You will need to download this [file from here](https://raw.githubusercontent.com/paulboal/hds5210-2023/main/week06/allergies.json) and then upload it into Google Colab to run these examples. It is taken from sample data provided by the EHR vendor, Epic, here: https://open.epic.com/Clinical/Allergy\n",
        "\n",
        "Take some time to look at the structure of the file.  You can open it directly in Jupyter by clicking the _Home_ icon, then the _from_instructor_ folder, and then the _data_ folder.\n",
        "\n",
        "Within the file, you'll see that it is a dictionary with many items in it.  One of those items is called `entry` and that item is a list of things.  You can tell that because the item name is immediately followed by an opening square bracket, signifying the start of a list.  It's line 11 of the file: `  \"entry\": [`\n",
        "\n",
        "Write a function named `allergy_count(json_file)` that takes as one parameter the name of the JSON file and returns an integer number of entries in that file.  Your function should open the file, read the json into a Python object, and return how many items there are in the list of `entry`s."
      ]
    },
    {
      "cell_type": "code",
      "execution_count": 132,
      "metadata": {
        "id": "Y-gB9jHJsbFB"
      },
      "outputs": [],
      "source": [
        "import json\n",
        "ALLERGIES_FILE=\"allergies.json\""
      ]
    },
    {
      "cell_type": "code",
      "execution_count": 133,
      "metadata": {
        "nbgrader": {
          "grade": false,
          "grade_id": "q1-answer",
          "locked": false,
          "schema_version": 1,
          "solution": true
        },
        "id": "1aC6CtigsbFB"
      },
      "outputs": [],
      "source": [
        "\n",
        "\n",
        "def allergy_count(json_file):\n",
        "    \"\"\"\n",
        "    This function counts the number of entries in a JSON file.\n",
        "\n",
        "    parameters:\n",
        "        json_file (str): The name of the JSON file you want to process.\n",
        "\n",
        "    returns:\n",
        "        int: The count of entries in the JSON file.\n",
        "\n",
        "    exceptions:\n",
        "        - FileNotFoundError: Raised if the specified file does not exist.\n",
        "        - json.JSONDecodeError: Raised if there is a problem decoding the JSON data.\n",
        "        - ValueError: Raised if the JSON data does not contain an 'entry' key or is not in dictionary format.\n",
        "\n",
        "    example:\n",
        "        To count the number of entries in a JSON file named 'allergies.json', you can use this function like this:\n",
        "        >>> json_file = 'allergies.json'\n",
        "        >>> entry_count = allergy_count(json_file)\n",
        "        >>> print(f'Number of entries in {json_file}: {entry_count}')\n",
        "    \"\"\"\n",
        "    try:\n",
        "        with open(json_file, 'r') as file:\n",
        "            data = json.load(file)\n",
        "            if isinstance(data, dict) and 'entry' in data:\n",
        "                return len(data['entry'])\n",
        "            else:\n",
        "                raise ValueError(\"The JSON data does not contain an 'entry' key or is not in dictionary format.\")\n",
        "    except FileNotFoundError:\n",
        "        print(f\"Error: The file '{json_file}' does not exist.\")\n",
        "    except json.JSONDecodeError as e:\n",
        "        print(f\"Error decoding JSON in '{json_file}': {e}\")\n",
        "    except Exception as e:\n",
        "        print(f\"An error occurred: {e}\")\n",
        "    return 0\n",
        "\n",
        "\n",
        "\n",
        "\n",
        "\n"
      ]
    },
    {
      "cell_type": "code",
      "execution_count": 134,
      "metadata": {
        "id": "1etTvgUOsbFB",
        "outputId": "d9cd7722-058e-45a8-e85e-42616a54fd80",
        "colab": {
          "base_uri": "https://localhost:8080/"
        }
      },
      "outputs": [
        {
          "output_type": "execute_result",
          "data": {
            "text/plain": [
              "4"
            ]
          },
          "metadata": {},
          "execution_count": 134
        }
      ],
      "source": [
        "allergy_count(ALLERGIES_FILE)"
      ]
    },
    {
      "cell_type": "code",
      "execution_count": 135,
      "metadata": {
        "nbgrader": {
          "grade": true,
          "grade_id": "q1-tests",
          "locked": true,
          "points": 5,
          "schema_version": 1,
          "solution": false
        },
        "id": "mP8boP02sbFC"
      },
      "outputs": [],
      "source": [
        "assert type(allergy_count(ALLERGIES_FILE)) == int\n",
        "assert allergy_count(ALLERGIES_FILE) == 4"
      ]
    },
    {
      "cell_type": "markdown",
      "metadata": {
        "id": "06IRcxxcsbFC"
      },
      "source": [
        "### 30.2 Number of Patients\n",
        "\n",
        "If you dig a little bit deaper into this list of allergies, you'll see that each result has a patient associated with it.  Create a funcation called `patient_count(json_file)` that will count how many unique patients we have in this JSON structure.  "
      ]
    },
    {
      "cell_type": "code",
      "execution_count": 136,
      "metadata": {
        "id": "yV0LO5Z2sbFC"
      },
      "outputs": [],
      "source": [
        "\n",
        "\n",
        "def patient_count(json_file):\n",
        "    \"\"\"\n",
        "    count the number of unique patients in a JSON structure containing allergy data.\n",
        "\n",
        "    parameters:\n",
        "        json_file (str): The name of the JSON file containing allergy data.\n",
        "\n",
        "    returns:\n",
        "        int: The count of unique patients found in the JSON structure.\n",
        "\n",
        "    exceptions:\n",
        "        - FileNotFoundError: Raised if the specified file does not exist.\n",
        "        - json.JSONDecodeError: Raised if there is a problem decoding the JSON data.\n",
        "        - ValueError: Raised if the JSON data does not contain an 'entry' key or is not in dictionary format.\n",
        "\n",
        "    example:\n",
        "        To count the number of unique patients in a JSON file named 'allergies.json', use this function as follows:\n",
        "        >>> unique_patients_count = patient_count('allergies.json')\n",
        "        >>> print(f'Number of unique patients: {unique_patients_count}')\n",
        "    \"\"\"\n",
        "    try:\n",
        "        with open(json_file, 'r') as file:\n",
        "            data = json.load(file)\n",
        "            if isinstance(data, dict) and 'entry' in data:\n",
        "                unique_patients = set()\n",
        "                for entry in data['entry']:\n",
        "                    if 'resource' in entry and 'patient' in entry['resource']:\n",
        "                        unique_patients.add(entry['resource']['patient']['display'])\n",
        "                return len(unique_patients)\n",
        "            else:\n",
        "                raise ValueError(\"The JSON data does not contain an 'entry' key or is not in dictionary format.\")\n",
        "    except FileNotFoundError:\n",
        "        print(f\"Error: The file '{json_file}' does not exist.\")\n",
        "    except json.JSONDecodeError as e:\n",
        "        print(f\"Error decoding JSON in '{json_file}': {e}\")\n",
        "    except Exception as e:\n",
        "        print(f\"An error occurred: {e}\")\n",
        "    return 0\n"
      ]
    },
    {
      "cell_type": "code",
      "execution_count": 137,
      "metadata": {
        "id": "jdpkCxIRsbFC",
        "outputId": "566f780e-1214-46d9-ef5d-ea042e2d7e1f",
        "colab": {
          "base_uri": "https://localhost:8080/"
        }
      },
      "outputs": [
        {
          "output_type": "execute_result",
          "data": {
            "text/plain": [
              "2"
            ]
          },
          "metadata": {},
          "execution_count": 137
        }
      ],
      "source": [
        "patient_count(ALLERGIES_FILE)"
      ]
    },
    {
      "cell_type": "code",
      "execution_count": 138,
      "metadata": {
        "id": "MbRwhQL2sbFC"
      },
      "outputs": [],
      "source": [
        "assert type(patient_count(ALLERGIES_FILE)) == int\n",
        "assert patient_count(ALLERGIES_FILE) == 2"
      ]
    },
    {
      "cell_type": "markdown",
      "metadata": {
        "id": "SIQtEsvisbFC"
      },
      "source": [
        "### 30.3 How Many Allergies per Patient\n",
        "\n",
        "Although each entry is a separate allergy, several of them are for the same patient.  Write a function called `allergy_per_patient(json_file)` that counts up how many allergies each patient has.\n"
      ]
    },
    {
      "cell_type": "code",
      "execution_count": 139,
      "metadata": {
        "id": "gR1vmi4PsbFD"
      },
      "outputs": [],
      "source": [
        "\n",
        "\n",
        "def allergy_per_patient(json_file):\n",
        "    \"\"\"\n",
        "    This function helps us count the number of allergies for each patient from a JSON file containing allergy data.\n",
        "\n",
        "    parameters:\n",
        "        json_file (str): The filename of the JSON file with allergy data.\n",
        "\n",
        "    returns:\n",
        "        dict: A dictionary where the keys represent patient names, and the values are the counts of allergies for each patient.\n",
        "\n",
        "    exceptions:\n",
        "        - FileNotFoundError: If the specified file does not exist.\n",
        "        - json.JSONDecodeError: If there is an issue decoding the JSON data.\n",
        "        - ValueError: If the JSON data does not contain an 'entry' key or is not in dictionary format.\n",
        "\n",
        "    example:\n",
        "        To find out how many allergies each patient has in a JSON file named 'allergies.json', use this function like this:\n",
        "        >>> allergy_counts = allergy_per_patient('allergies.json')\n",
        "        >>> print(allergy_counts)\n",
        "        {'Paul Boal': 1, 'Jason Argonaut': 3}\n",
        "    \"\"\"\n",
        "    try:\n",
        "        with open(json_file, 'r') as file:\n",
        "            data = json.load(file)\n",
        "            if isinstance(data, dict) and 'entry' in data:\n",
        "                allergy_counts = {}\n",
        "                for entry in data['entry']:\n",
        "                    if 'resource' in entry and 'patient' in entry['resource']:\n",
        "                        patient_name = entry['resource']['patient']['display']\n",
        "                        allergy_counts[patient_name] = allergy_counts.get(patient_name, 0) + 1\n",
        "                return allergy_counts\n",
        "            else:\n",
        "                raise ValueError(\"The JSON data does not contain an 'entry' key or is not in dictionary format.\")\n",
        "    except FileNotFoundError:\n",
        "        print(f\"Error: The file '{json_file}' does not exist.\")\n",
        "    except json.JSONDecodeError as e:\n",
        "        print(f\"Error decoding JSON in '{json_file}': {e}\")\n",
        "    except Exception as e:\n",
        "        print(f\"An error occurred: {e}\")\n",
        "    return {}\n"
      ]
    },
    {
      "cell_type": "code",
      "execution_count": 140,
      "metadata": {
        "id": "hm1M_gFmsbFD",
        "outputId": "3aee062b-8923-4f33-cb06-ced62a68e5b0",
        "colab": {
          "base_uri": "https://localhost:8080/"
        }
      },
      "outputs": [
        {
          "output_type": "execute_result",
          "data": {
            "text/plain": [
              "{'Jason Argonaut': 3, 'Paul Boal': 1}"
            ]
          },
          "metadata": {},
          "execution_count": 140
        }
      ],
      "source": [
        "allergy_per_patient(ALLERGIES_FILE)"
      ]
    },
    {
      "cell_type": "code",
      "execution_count": 141,
      "metadata": {
        "id": "zmvx6EtfsbFD"
      },
      "outputs": [],
      "source": [
        "assert type(allergy_per_patient(ALLERGIES_FILE)) == dict\n",
        "assert allergy_per_patient(ALLERGIES_FILE) == {'Paul Boal': 1, 'Jason Argonaut': 3}"
      ]
    },
    {
      "cell_type": "markdown",
      "metadata": {
        "nbgrader": {
          "grade": false,
          "grade_id": "q2-question",
          "locked": true,
          "schema_version": 1,
          "solution": false
        },
        "id": "N5eEz7lbsbFD"
      },
      "source": [
        "### 30.4 Patient Allergies and Reaction\n",
        "\n",
        "You'll see in the file that each of the items in the `entry` list have several other attributes including a patient name, substance text representation, and a reaction manifestation.  Create a function named `allergy_list(json_file)` that will create an output list that has patient name, allergy, and reaction for each `entry`.  The actual result you should get will be:\n",
        "\n",
        "```python\n",
        "[['Jason Argonaut', 'PENICILLIN G', 'Hives'],\n",
        " ['Paul Boal', 'PENICILLIN G', 'Bruising'],\n",
        " ['Jason Argonaut', 'SHELLFISH-DERIVED PRODUCTS', 'Itching'],\n",
        " ['Jason Argonaut', 'STRAWBERRY', 'Anaphylaxis']]\n",
        "```\n",
        "\n",
        "You'll notice that the reaction and the manifestation of that action are lists.  You only need to capture the first reaction and the first manifestation of the action.  That is, if there is a list of things, just output the first one."
      ]
    },
    {
      "cell_type": "code",
      "execution_count": 142,
      "metadata": {
        "nbgrader": {
          "grade": false,
          "grade_id": "q2-answer",
          "locked": false,
          "schema_version": 1,
          "solution": true
        },
        "id": "nXPoH288sbFD"
      },
      "outputs": [],
      "source": [
        "\n",
        "\n",
        "def allergy_list(json_file):\n",
        "    \"\"\"\n",
        "    extracts and formats information about patient allergies and their reactions from a JSON structure containing allergy data.\n",
        "\n",
        "    parameters:\n",
        "        json_file (str): The filename of the JSON file containing allergy data.\n",
        "\n",
        "    returns:\n",
        "        list: A list of lists where each inner list contains patient name, allergy, and the first reaction.\n",
        "\n",
        "    exceptions:\n",
        "        - FileNotFoundError: Raised if the specified file does not exist.\n",
        "        - json.JSONDecodeError: Raised if there is an issue decoding the JSON data.\n",
        "        - ValueError: Raised if the JSON data does not contain an 'entry' key or is not in dictionary format.\n",
        "\n",
        "    example:\n",
        "        To extract and format patient names, allergies, and reactions from a JSON file named 'allergies.json', you can use this function like this:\n",
        "        >>> allergies_info = allergy_list('allergies.json')\n",
        "        >>> print(allergies_info)\n",
        "        [['Jason Argonaut', 'PENICILLIN G', 'Hives'],\n",
        "         ['Jason Argonaut', 'SHELLFISH-DERIVED PRODUCTS', 'Itching'],\n",
        "         ['Jason Argonaut', 'STRAWBERRY', 'Anaphylaxis'],\n",
        "         ['Paul Boal', 'PENICILLIN G', 'Bruising']]\n",
        "    \"\"\"\n",
        "    try:\n",
        "        with open(json_file, 'r') as file:\n",
        "            data = json.load(file)\n",
        "            if isinstance(data, dict) and 'entry' in data:\n",
        "                allergy_info = []\n",
        "                for entry in data['entry']:\n",
        "                    if 'resource' in entry and 'patient' in entry['resource'] and 'substance' in entry['resource'] and 'reaction' in entry['resource']:\n",
        "                        patient_name = entry['resource']['patient']['display']\n",
        "                        allergy = entry['resource']['substance']['text']\n",
        "                        if 'manifestation' in entry['resource']['reaction'][0]:\n",
        "                            reaction = entry['resource']['reaction'][0]['manifestation'][0]['text']\n",
        "                            allergy_info.append([patient_name, allergy, reaction])\n",
        "                return allergy_info\n",
        "            else:\n",
        "                raise ValueError(\"The JSON data does not contain an 'entry' key or is not in dictionary format.\")\n",
        "    except FileNotFoundError:\n",
        "        print(f\"Error: The file '{json_file}' does not exist.\")\n",
        "    except json.JSONDecodeError as e:\n",
        "        print(f\"Error decoding JSON in '{json_file}': {e}\")\n",
        "    except Exception as e:\n",
        "        print(f\"An error occurred: {e}\")\n",
        "    return []\n"
      ]
    },
    {
      "cell_type": "code",
      "execution_count": 143,
      "metadata": {
        "id": "SPq4KgE8sbFE",
        "outputId": "5d5cbe62-80dc-43f6-c8df-b86634400836",
        "colab": {
          "base_uri": "https://localhost:8080/"
        }
      },
      "outputs": [
        {
          "output_type": "execute_result",
          "data": {
            "text/plain": [
              "[['Jason Argonaut', 'PENICILLIN G', 'Hives'],\n",
              " ['Jason Argonaut', 'SHELLFISH-DERIVED PRODUCTS', 'Itching'],\n",
              " ['Jason Argonaut', 'STRAWBERRY', 'Anaphylaxis'],\n",
              " ['Paul Boal', 'PENICILLIN G', 'Bruising']]"
            ]
          },
          "metadata": {},
          "execution_count": 143
        }
      ],
      "source": [
        "allergy_list(ALLERGIES_FILE)"
      ]
    },
    {
      "cell_type": "code",
      "execution_count": 144,
      "metadata": {
        "nbgrader": {
          "grade": true,
          "grade_id": "q2-tests",
          "locked": true,
          "points": 10,
          "schema_version": 1,
          "solution": false
        },
        "id": "rpnTNXb3sbFE"
      },
      "outputs": [],
      "source": [
        "assert allergy_list(ALLERGIES_FILE) == [['Jason Argonaut', 'PENICILLIN G', 'Hives'],\n",
        " ['Jason Argonaut', 'SHELLFISH-DERIVED PRODUCTS', 'Itching'],\n",
        " ['Jason Argonaut', 'STRAWBERRY', 'Anaphylaxis'],\n",
        " ['Paul Boal', 'PENICILLIN G', 'Bruising']]\n"
      ]
    },
    {
      "cell_type": "markdown",
      "metadata": {
        "nbgrader": {
          "grade": false,
          "grade_id": "q3-question",
          "locked": true,
          "schema_version": 1,
          "solution": false
        },
        "id": "ktr7oGGUsbFE"
      },
      "source": [
        "### 30.5 Allergy Reaction\n",
        "\n",
        "Write a function called `allergy_reaction(json_file,patient,substance)` that takes three parameter and returns the reaction that will happen if the patient takes the specified substance.  You can solve this, in part, by calling your `allergy_list` function inside your new `allergy_reaction` function.\n",
        "\n",
        "If the substance is not found in the allergy list, the function should return None."
      ]
    },
    {
      "cell_type": "code",
      "execution_count": 145,
      "metadata": {
        "nbgrader": {
          "grade": false,
          "grade_id": "q3-answer",
          "locked": false,
          "schema_version": 1,
          "solution": true
        },
        "id": "fal3ZNbtsbFE"
      },
      "outputs": [],
      "source": [
        "\n",
        "\n",
        "def allergy_reaction(json_file, patient, substance):\n",
        "    \"\"\"\n",
        "    Find the potential reaction that a patient may experience when taking a specified substance based on allergy data from a JSON file.\n",
        "\n",
        "    parameters:\n",
        "        json_file (str): The name of the JSON file containing allergy data.\n",
        "        patient (str): The patient's name.\n",
        "        substance (str): The substance for which you want to find the reaction.\n",
        "\n",
        "    returns:\n",
        "        str or None: The expected reaction if the patient takes the specified substance, or None if the substance is not found in the allergy data.\n",
        "\n",
        "    examples:\n",
        "        To find the potential reaction for a specific patient and substance in a JSON file named 'allergies.json', use this function like this:\n",
        "        >>> reaction = allergy_reaction('allergies.json', 'Jason Argonaut', 'PENICILLIN G')\n",
        "        >>> print(reaction)\n",
        "        'Hives'\n",
        "\n",
        "    exceptions:\n",
        "        - FileNotFoundError: If the specified JSON file does not exist.\n",
        "        - json.JSONDecodeError: If there is an issue decoding the JSON data.\n",
        "        - ValueError: If the JSON data format is incorrect.\n",
        "\n",
        "    \"\"\"\n",
        "    try:\n",
        "        with open(json_file, 'r') as file:\n",
        "            data = json.load(file)\n",
        "            if isinstance(data, dict) and 'entry' in data:\n",
        "                for entry in data['entry']:\n",
        "                    if 'resource' in entry and 'patient' in entry['resource'] and 'substance' in entry['resource'] and 'reaction' in entry['resource']:\n",
        "                        if entry['resource']['patient']['display'] == patient and entry['resource']['substance']['text'] == substance:\n",
        "                            reaction = entry['resource']['reaction'][0]['manifestation'][0]['text'] if 'manifestation' in entry['resource']['reaction'][0] else None\n",
        "                            if reaction:\n",
        "                                return reaction\n",
        "                return None\n",
        "            else:\n",
        "                raise ValueError(\"The JSON data does not contain an 'entry' key or is not in dictionary format.\")\n",
        "    except FileNotFoundError:\n",
        "        print(f\"Error: The file '{json_file}' does not exist.\")\n",
        "    except json.JSONDecodeError as e:\n",
        "        print(f\"Error decoding JSON in '{json_file}': {e}\")\n",
        "    except Exception as e:\n",
        "        print(f\"An error occurred: {e}\")\n",
        "    return None\n"
      ]
    },
    {
      "cell_type": "code",
      "execution_count": 146,
      "metadata": {
        "id": "GcWKLCUZsbFE",
        "outputId": "b15f13de-973a-4240-ada9-7ac536367db0",
        "colab": {
          "base_uri": "https://localhost:8080/",
          "height": 35
        }
      },
      "outputs": [
        {
          "output_type": "execute_result",
          "data": {
            "text/plain": [
              "'Hives'"
            ],
            "application/vnd.google.colaboratory.intrinsic+json": {
              "type": "string"
            }
          },
          "metadata": {},
          "execution_count": 146
        }
      ],
      "source": [
        "allergy_reaction(ALLERGIES_FILE, 'Jason Argonaut', 'PENICILLIN G')"
      ]
    },
    {
      "cell_type": "code",
      "execution_count": 147,
      "metadata": {
        "nbgrader": {
          "grade": true,
          "grade_id": "q3-tests",
          "locked": true,
          "points": 5,
          "schema_version": 1,
          "solution": false
        },
        "id": "GDHUsIzvsbFE"
      },
      "outputs": [],
      "source": [
        "assert allergy_reaction(ALLERGIES_FILE, 'Jason Argonaut', 'PENICILLIN G') == 'Hives'\n",
        "assert allergy_reaction(ALLERGIES_FILE, 'Jason Argonaut', 'SHELLFISH-DERIVED PRODUCTS') == 'Itching'\n",
        "assert allergy_reaction(ALLERGIES_FILE, 'Jason Argonaut', 'STRAWBERRY') == 'Anaphylaxis'\n",
        "assert allergy_reaction(ALLERGIES_FILE, 'Jason Argonaut', 'PENICILLIN') == None\n",
        "assert allergy_reaction(ALLERGIES_FILE, 'Paul Boal', 'PENICILLIN G') == 'Bruising'"
      ]
    },
    {
      "cell_type": "markdown",
      "metadata": {
        "id": "gEVIwbgnsbFF"
      },
      "source": [
        "---\n",
        "\n",
        "## Check your work above\n",
        "\n",
        "If you didn't get them all correct, take a few minutes to think through those that aren't correct.\n",
        "\n",
        "\n",
        "## Submitting Your Work\n",
        "\n",
        "In order to submit your work, you'll need to save this notebook file back to GitHub.  To do that in Google Colab:\n",
        "1. File -> Save a Copy in GitHub\n",
        "2. Make sure your HDS5210 repository is selected\n",
        "3. Make sure the file name includes the week number like this: `week06/week06_assignment_2.ipynb`\n",
        "4. Add a commit message that means something\n",
        "\n",
        "**Be sure week names are lowercase and use a two digit week number!!**\n",
        "\n",
        "**Be sure you use the same file name provided by the instructor!!**\n",
        "\n"
      ]
    }
  ],
  "metadata": {
    "celltoolbar": "Create Assignment",
    "kernelspec": {
      "display_name": "Python 3",
      "language": "python",
      "name": "python3"
    },
    "language_info": {
      "codemirror_mode": {
        "name": "ipython",
        "version": 3
      },
      "file_extension": ".py",
      "mimetype": "text/x-python",
      "name": "python",
      "nbconvert_exporter": "python",
      "pygments_lexer": "ipython3",
      "version": "3.9.16"
    },
    "colab": {
      "provenance": []
    }
  },
  "nbformat": 4,
  "nbformat_minor": 0
}