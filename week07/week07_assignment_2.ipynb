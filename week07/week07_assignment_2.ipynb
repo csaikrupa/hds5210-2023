{
  "cells": [
    {
      "cell_type": "markdown",
      "metadata": {
        "id": "NrXcvCVAIk59"
      },
      "source": [
        "# Week 7 Assignment\n",
        "\n",
        "We've been working with different types of data structures in Python (dictionary, list, etc), how those are represented in JSON documents, and how to write code to access specific data elements. In this week's assignment, you will need to create your own JSON document to store information about yourself and the grades you've received from week 1 to week 4 and the week 6 quiz.  That is, everything you should have received a grade for.  Then you'll need to show me you know how to navigate the JSON in that file.\n",
        "\n",
        "Different from what we've done in the past, you do not have to write any functions or include any docstrings.  Just create some JSON and write some code.\n",
        "\n",
        "---"
      ]
    },
    {
      "cell_type": "markdown",
      "metadata": {
        "id": "DpQzCPbvIk5_"
      },
      "source": [
        "## 7.1 Create a JSON string\n",
        "\n",
        "Create a JSON string that contains your name, email, year you were born, all of the grades you've received back so far, and a comment about what you thought was most challenging on each of those assignments.  This can be any structure you choose, but make sure it uses a dictionary and a list, and has at least two levels of hierarchy.  That is, it can't just be one big long list."
      ]
    },
    {
      "cell_type": "markdown",
      "metadata": {
        "id": "6Knc7RKDIk5_"
      },
      "source": [
        "First, explain how your data structure is going to look..."
      ]
    },
    {
      "cell_type": "markdown",
      "metadata": {
        "id": "UpICGC1KIk5_"
      },
      "source": [
        "* Put your explanation here in text...\n",
        "I created a  JSON string using dictinory in which\n",
        "\"name\" and \"email\" are strings,\n",
        "\"year_of_birth\" is an integer,\n",
        "\"grades\" is a dictionary  with in the dictionary containing information for each week's assignment, where \"grade\" is a float, and \"comment\" is a string."
      ]
    },
    {
      "cell_type": "markdown",
      "metadata": {
        "id": "34D6zS3KIk5_"
      },
      "source": [
        "Then put the actual JSON you've created inside the multiline string below..."
      ]
    },
    {
      "cell_type": "code",
      "execution_count": 63,
      "metadata": {
        "id": "cWXx22tUIk5_"
      },
      "outputs": [],
      "source": [
        "# Your JSON data as a string\n",
        "hds5210 = \"\"\"\n",
        "{\n",
        "    \"name\": \"C. Sai Krupa\",\n",
        "    \"email\": \"chinthakunta.saikrupa@slu.edu\",\n",
        "    \"year_of_birth\": 1997,\n",
        "    \"grades\": {\n",
        "        \"Week 1\": {\n",
        "            \"grade\": 10.0,\n",
        "            \"comment\": \"Week 1 took time as it was the first one, and some confusion while creating the repository.\"\n",
        "        },\n",
        "        \"Week 2\": {\n",
        "            \"grade\": 9.5,\n",
        "            \"comment\": \"Week 2 felt challenging, first time writing functions and code.\"\n",
        "        },\n",
        "        \"Week 3\": {\n",
        "            \"grade\": 10.0,\n",
        "            \"comment\": \"Week 3 gained more confidence after week 2, extra effort with descriptive variables.\"\n",
        "        },\n",
        "        \"Week 4\": {\n",
        "            \"grade\": 9.0,\n",
        "            \"comment\": \"Week 4 went well overall, found the first question challenging.\"\n",
        "        },\n",
        "        \"Week 6 (Quiz)\": {\n",
        "            \"grade\": 5.0,\n",
        "            \"comment\": \"Unable to manage time while writing docstrings, hence used ChatGPT.\"\n",
        "        }\n",
        "    }\n",
        "}\n",
        "\"\"\"\n",
        "\n"
      ]
    },
    {
      "cell_type": "markdown",
      "metadata": {
        "id": "Z9pOaRgBIk6A"
      },
      "source": [
        "## 7.2 Do something with your JSON\n",
        "\n",
        "Now use Python code to do something with the Json above.  Turn it into English text, but make sure that you use at least one loop to access some dict or list content of your JSON.  Below, I've provided some basic code to read in the string above as JSON and return a Python object.  Your job is to work with that data structure and print out the important information like your name, email, and how you did on each assignment."
      ]
    },
    {
      "cell_type": "code",
      "execution_count": 64,
      "metadata": {
        "id": "XHLm_q7SIk6A",
        "outputId": "d940b13b-3125-4083-922e-2f52576b4feb",
        "colab": {
          "base_uri": "https://localhost:8080/"
        }
      },
      "outputs": [
        {
          "output_type": "stream",
          "name": "stdout",
          "text": [
            "Hi,my name is C. Sai Krupa, my email is chinthakunta.saikrupa@slu.edu,my year of birth is 1997. The below information provides grades and comments on each assignment:\n",
            "For Week 1, I was given a grade of 10.0. Week 1 took time as it was the first one, and some confusion while creating the repository.\n",
            "For Week 2, I was given a grade of 9.5. Week 2 felt challenging, first time writing functions and code.\n",
            "For Week 3, I was given a grade of 10.0. Week 3 gained more confidence after week 2, extra effort with descriptive variables.\n",
            "For Week 4, I was given a grade of 9.0. Week 4 went well overall, found the first question challenging.\n",
            "For Week 6 (Quiz), I was given a grade of 5.0. Unable to manage time while writing docstrings, hence used ChatGPT.\n"
          ]
        }
      ],
      "source": [
        "import json\n",
        "\n",
        "# parse the JSON data into a Python dictionary\n",
        "data = json.loads(hds5210)\n",
        "\n",
        "# print important information as English text using a loop\n",
        "print(f\"Hi,my name is {data['name']}, my email is {data['email']},my year of birth is {data['year_of_birth']}. The below information provides grades and comments on each assignment:\")\n",
        "\n",
        "# iterate through each assignment using a for loop\n",
        "for week, details in data['grades'].items():\n",
        "    print(f\"For {week}, I was given a grade of {details['grade']}. {details['comment']}\")\n",
        "\n",
        "\n",
        "\n",
        "\n",
        "\n",
        "\n",
        "\n",
        "\n",
        "\n"
      ]
    },
    {
      "cell_type": "markdown",
      "metadata": {
        "id": "spQ5o27DIk6A"
      },
      "source": [
        "## 7.3 Reflect\n",
        "\n",
        "Write a paragraph on any reflections you have. Was this hard? Easy?  What parts were most challenging or easiest? What did you like or dislike about the assignment?  Share whatever important thoughts you have abou this assignment."
      ]
    },
    {
      "cell_type": "markdown",
      "metadata": {
        "id": "cG8eR6FOIk6A"
      },
      "source": [
        "* Put your response here\n",
        "In order to complete this assignment, I had to work with JSON data that contained details about me, including my name, email address, and birth year. It was an educational experience because handling nested data structures was necessary for several assignments. It was simple to create new assignments and understand the JSON format. The hardest aspect was effectively using loops to handle nested data. This assignment's practical component, which included actual data processing and enhanced my data handling abilities, was much appreciated. Overall, it was a useful activity that gave students directly exposure to actual data structures.\n"
      ]
    },
    {
      "cell_type": "markdown",
      "metadata": {
        "id": "OqM5_mfdIk6A"
      },
      "source": [
        "---\n",
        "\n",
        "# Example\n",
        "\n",
        "Below is an example of something similar, but this uses information my and my friend's kids instead of grades."
      ]
    },
    {
      "cell_type": "code",
      "execution_count": 65,
      "metadata": {
        "id": "wAKAxekyIk6A",
        "outputId": "cde63fc7-6393-44c2-975e-f50c4bac78d9",
        "colab": {
          "base_uri": "https://localhost:8080/"
        }
      },
      "outputs": [
        {
          "output_type": "stream",
          "name": "stdout",
          "text": [
            "Hi, my name is Paul. I've got 3 kids. Their names are Ellie, Ada, Teddy.\n",
            "My friend, Anny has 1 kids. That's fewer than me. Their names are 1\n"
          ]
        }
      ],
      "source": [
        "hds5210 = \"\"\"\n",
        "{\n",
        "    \"me\": {\n",
        "        \"name\": \"Paul\",\n",
        "        \"kids\": [\"Ellie\", \"Ada\", \"Teddy\"]\n",
        "    },\n",
        "    \"friend\": {\n",
        "        \"name\": \"Anny\",\n",
        "        \"kids\": [\"Abby\"]\n",
        "    }\n",
        "}\n",
        "\"\"\"\n",
        "\n",
        "import json\n",
        "\n",
        "info = json.loads(hds5210)\n",
        "\n",
        "me = info[\"me\"][\"name\"]\n",
        "my_kids_count = len(info[\"me\"][\"kids\"])\n",
        "kids_list = \", \".join(info[\"me\"][\"kids\"])\n",
        "friend = info[\"friend\"][\"name\"]\n",
        "friends_kid_count = len(info[\"friend\"][\"kids\"])\n",
        "friend_kids = \", \".join(info[\"friend\"][\"kids\"])\n",
        "compare = \"more\" if friends_kid_count > my_kids_count else \"fewer\"\n",
        "\n",
        "print(f\"Hi, my name is {me}. I've got {my_kids_count} kids. Their names are {kids_list}.\")\n",
        "print(f\"My friend, {friend} has {friends_kid_count} kids. That's {compare} than me. Their names are {friends_kid_count}\")"
      ]
    }
  ],
  "metadata": {
    "kernelspec": {
      "display_name": "Python 3",
      "language": "python",
      "name": "python3"
    },
    "language_info": {
      "codemirror_mode": {
        "name": "ipython",
        "version": 3
      },
      "file_extension": ".py",
      "mimetype": "text/x-python",
      "name": "python",
      "nbconvert_exporter": "python",
      "pygments_lexer": "ipython3",
      "version": "3.9.16"
    },
    "colab": {
      "provenance": []
    }
  },
  "nbformat": 4,
  "nbformat_minor": 0
}